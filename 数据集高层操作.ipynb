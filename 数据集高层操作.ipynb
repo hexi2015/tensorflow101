{
 "cells": [
  {
   "cell_type": "code",
   "execution_count": 1,
   "metadata": {},
   "outputs": [],
   "source": [
    "import tempfile\n",
    "import tensorflow as tf"
   ]
  },
  {
   "cell_type": "markdown",
   "metadata": {},
   "source": [
    "## 1. 列举输入文件"
   ]
  },
  {
   "cell_type": "code",
   "execution_count": 6,
   "metadata": {},
   "outputs": [],
   "source": [
    "# 输入数据使用本章第一节（1. TFRecord样例程序.ipynb）生成的训练和测试数据。\n",
    "train_files = tf.train.match_filenames_once(\"mnist.record\")"
   ]
  },
  {
   "cell_type": "markdown",
   "metadata": {},
   "source": [
    "## 2. 定义解析TFRecord文件的parser方法。"
   ]
  },
  {
   "cell_type": "code",
   "execution_count": 7,
   "metadata": {},
   "outputs": [],
   "source": [
    "# 解析一个TFRecord的方法。\n",
    "def parser(record):\n",
    "    features = tf.parse_single_example(\n",
    "        record,\n",
    "        features={\n",
    "            'image_raw':tf.FixedLenFeature([],tf.string),\n",
    "            'pixels':tf.FixedLenFeature([],tf.int64),\n",
    "            'label':tf.FixedLenFeature([],tf.int64),\n",
    "            'label_onehot': tf.FixedLenFeature([10], tf.int64)\n",
    "        })\n",
    "    decoded_images = tf.decode_raw(features['image_raw'],tf.uint8)\n",
    "    retyped_images = tf.cast(decoded_images, tf.float32)\n",
    "    images = tf.reshape(retyped_images, [784])\n",
    "    labels = tf.cast(features['label'],tf.int32)\n",
    "    #pixels = tf.cast(features['pixels'],tf.int32)\n",
    "    return images, labels"
   ]
  },
  {
   "cell_type": "markdown",
   "metadata": {},
   "source": [
    "## 3. 定义训练数据集。"
   ]
  },
  {
   "cell_type": "code",
   "execution_count": 8,
   "metadata": {},
   "outputs": [],
   "source": [
    "image_size = 299          # 定义神经网络输入层图片的大小。\n",
    "batch_size = 100          # 定义组合数据batch的大小。\n",
    "shuffle_buffer = 10000   # 定义随机打乱数据时buffer的大小。\n",
    "\n",
    "# 定义读取训练数据的数据集。\n",
    "dataset = tf.data.TFRecordDataset(train_files)\n",
    "dataset = dataset.map(parser)\n",
    "\n",
    "# 对数据进行shuffle和batching操作。这里省略了对图像做随机调整的预处理步骤。\n",
    "dataset = dataset.shuffle(shuffle_buffer).batch(batch_size)\n",
    "\n",
    "# 重复NUM_EPOCHS个epoch。\n",
    "NUM_EPOCHS = 2\n",
    "dataset = dataset.repeat(NUM_EPOCHS)\n",
    "\n",
    "# 定义数据集迭代器。\n",
    "iterator = dataset.make_initializable_iterator()\n",
    "image_batch, label_batch = iterator.get_next()"
   ]
  },
  {
   "cell_type": "markdown",
   "metadata": {},
   "source": [
    "## 4. 定义神经网络结构和优化过程。"
   ]
  },
  {
   "cell_type": "code",
   "execution_count": 9,
   "metadata": {},
   "outputs": [
    {
     "name": "stdout",
     "output_type": "stream",
     "text": [
      "\n",
      "WARNING: The TensorFlow contrib module will not be included in TensorFlow 2.0.\n",
      "For more information, please see:\n",
      "  * https://github.com/tensorflow/community/blob/master/rfcs/20180907-contrib-sunset.md\n",
      "  * https://github.com/tensorflow/addons\n",
      "If you depend on functionality not listed there, please file an issue.\n",
      "\n"
     ]
    }
   ],
   "source": [
    "# 定义神经网络的结构以及优化过程。这里与7.3.4小节相同。\n",
    "def inference(input_tensor, weights1, biases1, weights2, biases2):\n",
    "    layer1 = tf.nn.relu(tf.matmul(input_tensor, weights1) + biases1)\n",
    "    return tf.matmul(layer1, weights2) + biases2\n",
    "\n",
    "INPUT_NODE = 784\n",
    "OUTPUT_NODE = 10\n",
    "LAYER1_NODE = 500\n",
    "REGULARAZTION_RATE = 0.0001   \n",
    "TRAINING_STEPS = 5000        \n",
    "\n",
    "weights1 = tf.Variable(tf.truncated_normal([INPUT_NODE, LAYER1_NODE], stddev=0.1))\n",
    "biases1 = tf.Variable(tf.constant(0.1, shape=[LAYER1_NODE]))\n",
    "\n",
    "weights2 = tf.Variable(tf.truncated_normal([LAYER1_NODE, OUTPUT_NODE], stddev=0.1))\n",
    "biases2 = tf.Variable(tf.constant(0.1, shape=[OUTPUT_NODE]))\n",
    "\n",
    "y = inference(image_batch, weights1, biases1, weights2, biases2)\n",
    "    \n",
    "# 计算交叉熵及其平均值\n",
    "cross_entropy = tf.nn.sparse_softmax_cross_entropy_with_logits(logits=y, labels=label_batch)\n",
    "cross_entropy_mean = tf.reduce_mean(cross_entropy)\n",
    "    \n",
    "# 损失函数的计算\n",
    "regularizer = tf.contrib.layers.l2_regularizer(REGULARAZTION_RATE)\n",
    "regularaztion = regularizer(weights1) + regularizer(weights2)\n",
    "loss = cross_entropy_mean + regularaztion\n",
    "\n",
    "# 优化损失函数\n",
    "train_step = tf.train.GradientDescentOptimizer(0.01).minimize(loss)"
   ]
  },
  {
   "cell_type": "markdown",
   "metadata": {},
   "source": [
    "## 训练"
   ]
  },
  {
   "cell_type": "code",
   "execution_count": 10,
   "metadata": {},
   "outputs": [
    {
     "name": "stdout",
     "output_type": "stream",
     "text": [
      "After 0 training step(s), loss is 634.839 \n",
      "After 1000 training step(s), loss is 2.55409 \n"
     ]
    }
   ],
   "source": [
    "# 声明会话并运行神经网络的优化过程。\n",
    "with tf.Session() as sess:  \n",
    "    # 初始化变量。\n",
    "    sess.run((tf.global_variables_initializer(),\n",
    "              tf.local_variables_initializer()))\n",
    "    \n",
    "    # 初始化训练数据的迭代器。\n",
    "    sess.run(iterator.initializer)\n",
    "    \n",
    "    # 循环进行训练，直到数据集完成输入、抛出OutOfRangeError错误。\n",
    "    i = 0\n",
    "    while True:\n",
    "        try:\n",
    "            if i % 1000 == 0:\n",
    "                print(\"After %d training step(s), loss is %g \" % (i, sess.run(loss))) \n",
    "            sess.run(train_step)\n",
    "            i += 1\n",
    "        except tf.errors.OutOfRangeError:\n",
    "            break\n"
   ]
  },
  {
   "cell_type": "code",
   "execution_count": null,
   "metadata": {},
   "outputs": [],
   "source": []
  }
 ],
 "metadata": {
  "kernelspec": {
   "display_name": "Python 2",
   "language": "python",
   "name": "python2"
  },
  "language_info": {
   "codemirror_mode": {
    "name": "ipython",
    "version": 2
   },
   "file_extension": ".py",
   "mimetype": "text/x-python",
   "name": "python",
   "nbconvert_exporter": "python",
   "pygments_lexer": "ipython2",
   "version": "2.7.16"
  }
 },
 "nbformat": 4,
 "nbformat_minor": 2
}

{
 "cells": [
  {
   "cell_type": "code",
   "execution_count": 1,
   "metadata": {},
   "outputs": [],
   "source": [
    "import tempfile\n",
    "import tensorflow as tf"
   ]
  },
  {
   "cell_type": "markdown",
   "metadata": {},
   "source": [
    "## 从数组创建数据集"
   ]
  },
  {
   "cell_type": "code",
   "execution_count": 2,
   "metadata": {},
   "outputs": [
    {
     "name": "stdout",
     "output_type": "stream",
     "text": [
      "1\n",
      "4\n",
      "9\n",
      "25\n",
      "64\n"
     ]
    }
   ],
   "source": [
    "input_data = [1, 2, 3, 5, 8]\n",
    "dataset = tf.data.Dataset.from_tensor_slices(input_data)\n",
    "\n",
    "# 定义迭代器。\n",
    "iterator = dataset.make_one_shot_iterator()\n",
    "\n",
    "# get_next() 返回代表一个输入数据的张量。\n",
    "x = iterator.get_next()\n",
    "y = x * x\n",
    "\n",
    "with tf.Session() as sess:\n",
    "    for i in range(len(input_data)):\n",
    "        print(sess.run(y))"
   ]
  },
  {
   "cell_type": "markdown",
   "metadata": {},
   "source": [
    "## 2. 读取文本文件里的数据。"
   ]
  },
  {
   "cell_type": "code",
   "execution_count": 3,
   "metadata": {},
   "outputs": [
    {
     "name": "stdout",
     "output_type": "stream",
     "text": [
      "File1, line1.\n",
      "File1, line2.\n",
      "File2, line1.\n",
      "File2, line2.\n"
     ]
    }
   ],
   "source": [
    "with open(\"./test1.txt\", \"w\") as file:\n",
    "    file.write(\"File1, line1.\\n\") \n",
    "    file.write(\"File1, line2.\\n\")\n",
    "with open(\"./test2.txt\", \"w\") as file:\n",
    "    file.write(\"File2, line1.\\n\") \n",
    "    file.write(\"File2, line2.\\n\")\n",
    "\n",
    "# 从文本文件创建数据集。这里可以提供多个文件。\n",
    "input_files = [\"./test1.txt\", \"./test2.txt\"]\n",
    "dataset = tf.data.TextLineDataset(input_files)\n",
    "\n",
    "# 定义迭代器。\n",
    "iterator = dataset.make_one_shot_iterator()\n",
    "\n",
    "# 这里get_next()返回一个字符串类型的张量，代表文件中的一行。\n",
    "x = iterator.get_next()  \n",
    "with tf.Session() as sess:\n",
    "    for i in range(4):\n",
    "        print(sess.run(x))"
   ]
  },
  {
   "cell_type": "markdown",
   "metadata": {},
   "source": [
    "## 3. 解析TFRecord文件里的数据。读取文件为本章第一节创建的文件。"
   ]
  },
  {
   "cell_type": "code",
   "execution_count": 5,
   "metadata": {},
   "outputs": [
    {
     "name": "stdout",
     "output_type": "stream",
     "text": [
      "7\n",
      "3\n",
      "4\n",
      "6\n",
      "1\n",
      "8\n",
      "1\n",
      "0\n",
      "9\n",
      "8\n"
     ]
    }
   ],
   "source": [
    "# 解析一个TFRecord的方法。\n",
    "def parser(record):\n",
    "    features = tf.parse_single_example(\n",
    "        record,\n",
    "        features={\n",
    "            'image_raw':tf.FixedLenFeature([],tf.string),\n",
    "            'pixels':tf.FixedLenFeature([],tf.int64),\n",
    "            'label':tf.FixedLenFeature([],tf.int64)\n",
    "        })\n",
    "    decoded_images = tf.decode_raw(features['image_raw'],tf.uint8)\n",
    "    retyped_images = tf.cast(decoded_images, tf.float32)\n",
    "    images = tf.reshape(retyped_images, [784])\n",
    "    labels = tf.cast(features['label'],tf.int32)\n",
    "    #pixels = tf.cast(features['pixels'],tf.int32)\n",
    "    return images, labels\n",
    "\n",
    "# 从TFRecord文件创建数据集。这里可以提供多个文件。\n",
    "input_files = [\"mnist.record\"]\n",
    "dataset = tf.data.TFRecordDataset(input_files)\n",
    "\n",
    "# map()函数表示对数据集中的每一条数据进行调用解析方法。\n",
    "dataset = dataset.map(parser)\n",
    "\n",
    "# 定义遍历数据集的迭代器。\n",
    "iterator = dataset.make_one_shot_iterator()\n",
    "\n",
    "# 读取数据，可用于进一步计算\n",
    "image, label = iterator.get_next()\n",
    "\n",
    "with tf.Session() as sess:\n",
    "    for i in range(10):\n",
    "        x, y = sess.run([image, label]) \n",
    "        print(y)"
   ]
  },
  {
   "cell_type": "code",
   "execution_count": null,
   "metadata": {},
   "outputs": [],
   "source": []
  }
 ],
 "metadata": {
  "kernelspec": {
   "display_name": "Python 2",
   "language": "python",
   "name": "python2"
  },
  "language_info": {
   "codemirror_mode": {
    "name": "ipython",
    "version": 2
   },
   "file_extension": ".py",
   "mimetype": "text/x-python",
   "name": "python",
   "nbconvert_exporter": "python",
   "pygments_lexer": "ipython2",
   "version": "2.7.16"
  }
 },
 "nbformat": 4,
 "nbformat_minor": 2
}
